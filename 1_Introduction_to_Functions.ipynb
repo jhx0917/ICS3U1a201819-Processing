{
  "nbformat": 4,
  "nbformat_minor": 0,
  "metadata": {
    "colab": {
      "name": "1. Introduction to Functions.ipynb",
      "version": "0.3.2",
      "provenance": [],
      "include_colab_link": true
    },
    "kernelspec": {
      "name": "python3",
      "display_name": "Python 3"
    }
  },
  "cells": [
    {
      "cell_type": "markdown",
      "metadata": {
        "id": "view-in-github",
        "colab_type": "text"
      },
      "source": [
        "<a href=\"https://colab.research.google.com/github/jhx0917/ICS3U1a201819-Processing/blob/master/1_Introduction_to_Functions.ipynb\" target=\"_parent\"><img src=\"https://colab.research.google.com/assets/colab-badge.svg\" alt=\"Open In Colab\"/></a>"
      ]
    },
    {
      "metadata": {
        "id": "BsJ27Ou96FZB",
        "colab_type": "text"
      },
      "cell_type": "markdown",
      "source": [
        "# 1. Introduction to Functions\n",
        "\n",
        "## Our Functional Life So Far\n",
        "What are some ways we’ve worked with functions so far?\n",
        "* called built-in functions - math.sqrt(x), len(x), abs(x)\n",
        "* defined a function in Processing - what was the benefit of this?\n",
        "\n",
        "\n",
        "## What are Functions?\n",
        "* You can think of a function as a **subprogram**—a small program inside of a program. \n",
        "* we write a sequence of statements and give that sequence a *name*. \n",
        "* The instructions can then be executed at any point in the program by referring to the function name.\n",
        "\n",
        "\n",
        "\n",
        "### Example\n",
        "\n"
      ]
    },
    {
      "metadata": {
        "id": "iRmp0RVu76V1",
        "colab_type": "code",
        "outputId": "9455fc1c-b527-4716-f691-72b164b9929f",
        "colab": {
          "base_uri": "https://localhost:8080/",
          "height": 51
        }
      },
      "cell_type": "code",
      "source": [
        "import math\n",
        "\n",
        "# function definitions appear at the top of your program, usually below any import statements\n",
        "def isValid(number):\n",
        "    '''\n",
        "    Verifies if a given number is valid\n",
        "    @param number int - A integer to check if it is valid\n",
        "    @return   Boolean - True when number is positive\n",
        "    '''\n",
        "    return number >= 0\n",
        "    \n",
        "\n",
        "# Below your function definitions is what we call the main program, executable code that use the functions we define\n",
        "user_number = int(input(\"Enter a number: \"))\n",
        "\n",
        "if isValid(user_number):\n",
        "    print(\"The square root of \" + str(user_number) + \" is \" + str(math.sqrt(user_number)))\n",
        "else:\n",
        "    print(\"You have entered a invalid number\")\n"
      ],
      "execution_count": 0,
      "outputs": [
        {
          "output_type": "stream",
          "text": [
            "Enter a number: -3\n",
            "You have entered a invalid number\n"
          ],
          "name": "stdout"
        }
      ]
    },
    {
      "metadata": {
        "id": "t1ajzykA_QY7",
        "colab_type": "text"
      },
      "cell_type": "markdown",
      "source": [
        "The part of the program that creates a function is called a **function definition**, `def isValid(number):` is the beginning of the function in this example. When a function is subsequently used in a program – i.e `isValid(user_number)` – we say that the definition is called or **invoked**. A single function may be invoked at many different points of a program."
      ]
    },
    {
      "metadata": {
        "id": "qeaD56x_6DT8",
        "colab_type": "code",
        "colab": {}
      },
      "cell_type": "code",
      "source": [
        ""
      ],
      "execution_count": 0,
      "outputs": []
    },
    {
      "metadata": {
        "id": "J-dcFY8HAAdL",
        "colab_type": "text"
      },
      "cell_type": "markdown",
      "source": [
        "## A Simple Function\n",
        "\n",
        "Suppose you want to write a program that prints out the lyrics to the “Happy Birthday” song. The standard lyrics look like this:\n",
        "\n",
        "```\n",
        "Happy birthday to you!  \n",
        "Happy birthday to you!  \n",
        "Happy birthday, dear <insert-name>.  \n",
        "Happy birthday to you!\n",
        "```\n",
        "\n",
        "In typing this in interactive mode, it would be a simple program with four print statements.\n",
        "\n",
        "```\n",
        "print(\"Happy Birthday to you!\")\n",
        "print(\"Happy Birthday to you!\")\n",
        "print(\"Happy Birthday, dear Fred\")\n",
        "print(\"Happy Birthday to you!\")\n",
        "```\n",
        "\n",
        "### Practical Issues\n",
        "Even though this is a short program, what are the practical issues with it?\n",
        "The same print statement for “Happy Birthday to you!” is called 3 times. *Redundant code*.\n",
        "\n",
        "We can introduce a function to print the lyrics for the first, second, and fourth lines.\n",
        "\n",
        "```\n",
        "def happy():\n",
        "    print \"Happy Birthday to you!\"\n",
        "```\n",
        "\n",
        "We now have a function called happy.  Let’s try calling it:"
      ]
    },
    {
      "metadata": {
        "id": "9a-Gua-4Aw91",
        "colab_type": "code",
        "colab": {}
      },
      "cell_type": "code",
      "source": [
        "def happy():\n",
        "    print(\"Happy Birthday to you\")\n",
        "\n",
        "happy()\n"
      ],
      "execution_count": 0,
      "outputs": []
    },
    {
      "metadata": {
        "id": "4jaxh5pSBO3X",
        "colab_type": "text"
      },
      "cell_type": "markdown",
      "source": [
        "Now let’s redo the verse for Fred using the `happy()` function in a new function called `singFred()`.\n"
      ]
    },
    {
      "metadata": {
        "id": "SRNfjXGNBVHW",
        "colab_type": "code",
        "colab": {}
      },
      "cell_type": "code",
      "source": [
        "def happy():\n",
        "    print(\"Happy Birthday to you\")\n",
        "\n",
        "def singFred():\n",
        "\thappy()\n",
        "\thappy()\n",
        "\tprint(\"Happy Birthday dear Fred\")\n",
        "\thappy()\n",
        "\n",
        "singFred()\n"
      ],
      "execution_count": 0,
      "outputs": []
    },
    {
      "metadata": {
        "id": "4r4Wa-vTB42i",
        "colab_type": "text"
      },
      "cell_type": "markdown",
      "source": [
        "The output of the program would be:\n",
        "```\n",
        "Happy Birthday to you\n",
        "Happy Birthday to you\n",
        "Happy Birthday dear Fred\n",
        "Happy Birthday to you\n",
        "```\n",
        "\n",
        "However, the song is not as enthusiastic as we'd want it to be.  Modify the the happy() function to include an '!' at the end of the lyric.\n",
        "\n",
        "What advantage is there by defining the `happy()` function when changes are needed to the song?\n",
        "\n",
        "Now create a function similar to `singFred()`, this time we’ll call it `singLucy()`, which uses the name “Lucy” instead of Fred.\n"
      ]
    },
    {
      "metadata": {
        "id": "uy_dT_2BC8C4",
        "colab_type": "code",
        "colab": {}
      },
      "cell_type": "code",
      "source": [
        "def happy():\n",
        "    print(\"Happy Birthday to you\")\n",
        "\n",
        "def singFred():\n",
        "\thappy()\n",
        "\thappy()\n",
        "\tprint(\"Happy Birthday dear Fred\")\n",
        "\thappy()\n",
        "    \n",
        "# define a singLucy() function\n",
        "\n",
        "\n",
        "# sing to Fred and Lucy\n",
        "singFred()\n"
      ],
      "execution_count": 0,
      "outputs": []
    },
    {
      "metadata": {
        "id": "fHY25hbvDWVR",
        "colab_type": "text"
      },
      "cell_type": "markdown",
      "source": [
        "Do you notice any *practical issues* with our Happy Birthday code?  What is the difference in our `singFred()` and `singLucy()` functions?\n",
        "\n",
        "\n",
        "## A Quick Look at Functions and Parameters\n",
        "Given the slight difference in our `singFred()` and  `singLucy()` functions, we can combine the two functions into a more **generic** function using a parameter.\n",
        "\n",
        "\n"
      ]
    },
    {
      "metadata": {
        "id": "eRPQ2NjmD8Lr",
        "colab_type": "code",
        "colab": {}
      },
      "cell_type": "code",
      "source": [
        "def happy():\n",
        "    print(\"Happy Birthday to you!\")\n",
        "\n",
        "def sing(person):\n",
        "   happy()\n",
        "   happy()\n",
        "   print(\"Happy Birthday dear \" + person)\n",
        "   happy()\n",
        "    \n",
        "sing(\"Fred\")\n",
        "print(\"\")\n",
        "sing(\"Lucy\")\n"
      ],
      "execution_count": 0,
      "outputs": []
    }
  ]
}